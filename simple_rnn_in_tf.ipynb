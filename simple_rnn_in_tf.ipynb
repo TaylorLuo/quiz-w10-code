{
 "cells": [
  {
   "cell_type": "markdown",
   "metadata": {
    "toc": true
   },
   "source": [
    "<h1>Table of Contents<span class=\"tocSkip\"></span></h1>\n",
    "<div class=\"toc\" style=\"margin-top: 1em;\"><ul class=\"toc-item\"></ul></div>"
   ]
  },
  {
   "cell_type": "code",
   "execution_count": 1,
   "metadata": {},
   "outputs": [],
   "source": [
    "from __future__ import absolute_import\n",
    "from __future__ import division\n",
    "from __future__ import print_function"
   ]
  },
  {
   "cell_type": "code",
   "execution_count": 2,
   "metadata": {},
   "outputs": [],
   "source": [
    "import numpy as np"
   ]
  },
  {
   "cell_type": "code",
   "execution_count": 3,
   "metadata": {},
   "outputs": [
    {
     "name": "stdout",
     "output_type": "stream",
     "text": [
      "Expected cross entropy loss if the model:\n",
      "- learns neither dependency: 0.661563238158\n",
      "- learns first dependency: 0.519166699707\n",
      "- learns both dependency: 0.454454367449\n"
     ]
    }
   ],
   "source": [
    "print(\"Expected cross entropy loss if the model:\")\n",
    "print(\"- learns neither dependency:\", -(0.625 * np.log(0.625) + 0.375 * np.log(0.375)))\n",
    "print(\"- learns first dependency:\", \n",
    "      -0.5 * (0.875 * np.log(0.875) + 0.125 * np.log(0.125))\n",
    "      -0.5 * (0.625 * np.log(0.625) + 0.375 * np.log(0.375)))\n",
    "print(\"- learns both dependency:\", \n",
    "      -0.5 * (0.75 * np.log(0.75) + 0.25 * np.log(0.25))\n",
    "      -0.25 * (2 * 0.5 * np.log(0.5) - 0.25 * (0)))"
   ]
  },
  {
   "cell_type": "code",
   "execution_count": 4,
   "metadata": {},
   "outputs": [],
   "source": [
    "import tensorflow as tf\n",
    "%matplotlib inline\n",
    "import matplotlib.pyplot as plt\n",
    "import os\n",
    "os.environ['CUDA_VISIBLE_DEVICES']=''"
   ]
  },
  {
   "cell_type": "code",
   "execution_count": 5,
   "metadata": {},
   "outputs": [],
   "source": [
    "num_steps = 5\n",
    "batch_size = 200\n",
    "num_classes = 2\n",
    "state_size = 16\n",
    "learning_rate = 0.001"
   ]
  },
  {
   "cell_type": "code",
   "execution_count": 6,
   "metadata": {},
   "outputs": [],
   "source": [
    "def gen_data(size = 1000000):\n",
    "    X = np.array(np.random.choice(2, size=(size,)))\n",
    "    Y = []\n",
    "    for i in range(size):\n",
    "        threshold = 0.5\n",
    "        if X[i-3] == 1:\n",
    "            threshold += 0.5\n",
    "        if X[i-8] == 1:\n",
    "            threshold -= 0.25\n",
    "        if np.random.rand() > threshold:\n",
    "            Y.append(0)\n",
    "        else:\n",
    "            Y.append(1)\n",
    "    return X, np.array(Y)\n",
    "        "
   ]
  },
  {
   "cell_type": "code",
   "execution_count": 7,
   "metadata": {},
   "outputs": [],
   "source": [
    "def gen_batch(raw_date, batch_size, num_steps):\n",
    "    raw_x, raw_y = raw_date\n",
    "    data_length = len(raw_x)\n",
    "    \n",
    "    #partition raw data into batches and stak them vertically in a data matrix\n",
    "    batch_partition_length = data_length // batch_size\n",
    "    data_x = np.zeros([batch_size, batch_partition_length], dtype=np.int32)\n",
    "    data_y = np.zeros([batch_size, batch_partition_length], dtype=np.int32)\n",
    "    # do partition \n",
    "    for i in range(batch_size):\n",
    "        data_x[i] = raw_x[batch_partition_length * i : batch_partition_length * (i + 1)]\n",
    "        data_y[i] = raw_y[batch_partition_length * i : batch_partition_length * (i + 1)]\n",
    "    # do epoch\n",
    "    epoch_size = batch_partition_length // num_steps\n",
    "    \n",
    "    for i in range(epoch_size):\n",
    "        x = data_x[:, i * num_steps:(i + 1) * num_steps]\n",
    "        y = data_y[:, i * num_steps:(i + 1) * num_steps]\n",
    "        yield(x, y)\n",
    "        \n",
    "def gen_epochs(n, num_steps):\n",
    "    for i in range(n):\n",
    "        yield gen_batch(gen_data(), batch_size, num_steps)"
   ]
  },
  {
   "cell_type": "code",
   "execution_count": 8,
   "metadata": {},
   "outputs": [],
   "source": [
    "tf.reset_default_graph()\n",
    "\n",
    "x = tf.placeholder(tf.int32, [batch_size, num_steps], name='input_placeholder')\n",
    "y = tf.placeholder(tf.int32, [batch_size, num_steps], name='labels_placeholder')\n",
    "init_state = tf.zeros([batch_size, state_size])\n",
    "\n",
    "x_one_hot = tf.one_hot(x, num_classes)\n",
    "rnn_inputs = tf.unstack(x_one_hot, axis = 1)"
   ]
  },
  {
   "cell_type": "code",
   "execution_count": 9,
   "metadata": {},
   "outputs": [
    {
     "name": "stdout",
     "output_type": "stream",
     "text": [
      "[<tf.Tensor 'rnn/rnn/basic_rnn_cell/Tanh:0' shape=(200, 16) dtype=float32>, <tf.Tensor 'rnn/rnn/basic_rnn_cell/Tanh_1:0' shape=(200, 16) dtype=float32>, <tf.Tensor 'rnn/rnn/basic_rnn_cell/Tanh_2:0' shape=(200, 16) dtype=float32>, <tf.Tensor 'rnn/rnn/basic_rnn_cell/Tanh_3:0' shape=(200, 16) dtype=float32>, <tf.Tensor 'rnn/rnn/basic_rnn_cell/Tanh_4:0' shape=(200, 16) dtype=float32>]\n",
      "Tensor(\"rnn/rnn/basic_rnn_cell/Tanh_4:0\", shape=(200, 16), dtype=float32)\n"
     ]
    }
   ],
   "source": [
    "# with tf.variable_scope('rnn_cell'):\n",
    "#     W = tf.get_variable('W', [num_classes + state_size, state_size])\n",
    "#     b = tf.get_variable('b', [state_size], initializer=tf.constant_initializer(0.0))\n",
    "\n",
    "# def rnn_cell(rnn_input, state):\n",
    "#     with tf.variable_scope('rnn_cell', reuse=True):\n",
    "#         W = tf.get_variable('W', [num_classes + state_size, state_size])\n",
    "#         b = tf.get_variable('b', [state_size], initializer=tf.constant_initializer(0.0))\n",
    "#     return tf.tanh(tf.matmul(tf.concat([rnn_input, state], 1), W) + b)\n",
    "    \n",
    "# state = init_state\n",
    "# rnn_outputs = []\n",
    "# for rnn_input in rnn_inputs:\n",
    "#     state = rnn_cell(rnn_input, state)\n",
    "#     rnn_outputs.append(state)\n",
    "# final_state = rnn_outputs[-1]\n",
    "\n",
    "# 上面是原始代码，定义了rnn_cell，然后使用循环的方式对其进行复用，\n",
    "#利用tensorflow简化之后我们可以直接调用BasicRNNCell和static_rnn两个函数实现\n",
    "cell = tf.nn.rnn_cell.BasicRNNCell(state_size)\n",
    "rnn_outputs, final_state = tf.nn.static_rnn(cell, rnn_inputs, initial_state=init_state)\n",
    "print(rnn_outputs)\n",
    "print(final_state)"
   ]
  },
  {
   "cell_type": "code",
   "execution_count": 10,
   "metadata": {},
   "outputs": [],
   "source": [
    "with tf.variable_scope('softmax'):\n",
    "    W = tf.get_variable('W', [state_size, num_classes])\n",
    "    b = tf.get_variable('b', [num_classes], initializer=tf.constant_initializer(0.0))\n",
    "logits = [tf.matmul(rnn_output, W) + b for rnn_output in rnn_outputs]\n",
    "predictions = [tf.nn.softmax(logit) for logit in logits]\n",
    "\n",
    "y_as_list = tf.unstack(y, num=num_steps, axis=1)\n",
    "\n",
    "losses = [tf.nn.sparse_softmax_cross_entropy_with_logits(labels=label, logits=logit) for \n",
    "         logit, label in zip(logits, y_as_list)]\n",
    "total_loss = tf.reduce_mean(losses)\n",
    "train_step = tf.train.AdamOptimizer(learning_rate).minimize(total_loss)\n"
   ]
  },
  {
   "cell_type": "code",
   "execution_count": 11,
   "metadata": {},
   "outputs": [
    {
     "name": "stdout",
     "output_type": "stream",
     "text": [
      "\n",
      "EPOCH 0\n",
      "Average loss at step 100 for last 100 steps: 0.60592177242\n",
      "Average loss at step 200 for last 100 steps: 0.494117258489\n",
      "Average loss at step 300 for last 100 steps: 0.487235401273\n",
      "Average loss at step 400 for last 100 steps: 0.488104067743\n",
      "Average loss at step 500 for last 100 steps: 0.484612516463\n",
      "Average loss at step 600 for last 100 steps: 0.485257371664\n",
      "Average loss at step 700 for last 100 steps: 0.484761792421\n",
      "Average loss at step 800 for last 100 steps: 0.484488342404\n",
      "Average loss at step 900 for last 100 steps: 0.482228897214\n",
      "\n",
      "EPOCH 1\n",
      "Average loss at step 100 for last 100 steps: 0.490588644147\n",
      "Average loss at step 200 for last 100 steps: 0.484489214122\n",
      "Average loss at step 300 for last 100 steps: 0.483278390467\n",
      "Average loss at step 400 for last 100 steps: 0.479197616577\n",
      "Average loss at step 500 for last 100 steps: 0.480221810639\n",
      "Average loss at step 600 for last 100 steps: 0.477422969341\n",
      "Average loss at step 700 for last 100 steps: 0.479821939468\n",
      "Average loss at step 800 for last 100 steps: 0.480770166218\n",
      "Average loss at step 900 for last 100 steps: 0.477210979462\n",
      "\n",
      "EPOCH 2\n",
      "Average loss at step 100 for last 100 steps: 0.484877128601\n",
      "Average loss at step 200 for last 100 steps: 0.476121207178\n",
      "Average loss at step 300 for last 100 steps: 0.479795797169\n",
      "Average loss at step 400 for last 100 steps: 0.477835725248\n",
      "Average loss at step 500 for last 100 steps: 0.476721453369\n",
      "Average loss at step 600 for last 100 steps: 0.475965521336\n",
      "Average loss at step 700 for last 100 steps: 0.473901064694\n",
      "Average loss at step 800 for last 100 steps: 0.474355764687\n",
      "Average loss at step 900 for last 100 steps: 0.473182309866\n",
      "\n",
      "EPOCH 3\n",
      "Average loss at step 100 for last 100 steps: 0.481113934517\n",
      "Average loss at step 200 for last 100 steps: 0.470775363743\n",
      "Average loss at step 300 for last 100 steps: 0.470336705148\n",
      "Average loss at step 400 for last 100 steps: 0.47133379966\n",
      "Average loss at step 500 for last 100 steps: 0.470391560197\n",
      "Average loss at step 600 for last 100 steps: 0.470213287473\n",
      "Average loss at step 700 for last 100 steps: 0.466801314652\n",
      "Average loss at step 800 for last 100 steps: 0.468586094379\n",
      "Average loss at step 900 for last 100 steps: 0.467501805723\n",
      "\n",
      "EPOCH 4\n",
      "Average loss at step 100 for last 100 steps: 0.473757324517\n",
      "Average loss at step 200 for last 100 steps: 0.46723693192\n",
      "Average loss at step 300 for last 100 steps: 0.467234064043\n",
      "Average loss at step 400 for last 100 steps: 0.467709053457\n",
      "Average loss at step 500 for last 100 steps: 0.466509019434\n",
      "Average loss at step 600 for last 100 steps: 0.468824896216\n",
      "Average loss at step 700 for last 100 steps: 0.466975057423\n",
      "Average loss at step 800 for last 100 steps: 0.465999576449\n",
      "Average loss at step 900 for last 100 steps: 0.4665778023\n",
      "\n",
      "EPOCH 5\n",
      "Average loss at step 100 for last 100 steps: 0.473842710853\n",
      "Average loss at step 200 for last 100 steps: 0.465623610318\n",
      "Average loss at step 300 for last 100 steps: 0.464327248037\n",
      "Average loss at step 400 for last 100 steps: 0.466024757326\n",
      "Average loss at step 500 for last 100 steps: 0.463789981306\n",
      "Average loss at step 600 for last 100 steps: 0.464974922836\n",
      "Average loss at step 700 for last 100 steps: 0.464186963439\n",
      "Average loss at step 800 for last 100 steps: 0.465779932141\n",
      "Average loss at step 900 for last 100 steps: 0.464908615053\n",
      "\n",
      "EPOCH 6\n",
      "Average loss at step 100 for last 100 steps: 0.471228752434\n",
      "Average loss at step 200 for last 100 steps: 0.463979724646\n",
      "Average loss at step 300 for last 100 steps: 0.463916065693\n",
      "Average loss at step 400 for last 100 steps: 0.463100931942\n",
      "Average loss at step 500 for last 100 steps: 0.463718650043\n",
      "Average loss at step 600 for last 100 steps: 0.46325374186\n",
      "Average loss at step 700 for last 100 steps: 0.462417589128\n",
      "Average loss at step 800 for last 100 steps: 0.462667659223\n",
      "Average loss at step 900 for last 100 steps: 0.462877951264\n",
      "\n",
      "EPOCH 7\n",
      "Average loss at step 100 for last 100 steps: 0.471185879111\n",
      "Average loss at step 200 for last 100 steps: 0.463871817291\n",
      "Average loss at step 300 for last 100 steps: 0.461288903356\n",
      "Average loss at step 400 for last 100 steps: 0.463138556778\n",
      "Average loss at step 500 for last 100 steps: 0.461805641353\n",
      "Average loss at step 600 for last 100 steps: 0.461411690414\n",
      "Average loss at step 700 for last 100 steps: 0.462100447714\n",
      "Average loss at step 800 for last 100 steps: 0.460773537159\n",
      "Average loss at step 900 for last 100 steps: 0.463051837087\n",
      "\n",
      "EPOCH 8\n",
      "Average loss at step 100 for last 100 steps: 0.469712789953\n",
      "Average loss at step 200 for last 100 steps: 0.460892218649\n",
      "Average loss at step 300 for last 100 steps: 0.460133855343\n",
      "Average loss at step 400 for last 100 steps: 0.45925313592\n",
      "Average loss at step 500 for last 100 steps: 0.459609957933\n",
      "Average loss at step 600 for last 100 steps: 0.459926410615\n",
      "Average loss at step 700 for last 100 steps: 0.459051845968\n",
      "Average loss at step 800 for last 100 steps: 0.45918114841\n",
      "Average loss at step 900 for last 100 steps: 0.461085427701\n",
      "\n",
      "EPOCH 9\n",
      "Average loss at step 100 for last 100 steps: 0.466978085041\n",
      "Average loss at step 200 for last 100 steps: 0.458726797104\n",
      "Average loss at step 300 for last 100 steps: 0.459468673468\n",
      "Average loss at step 400 for last 100 steps: 0.458695850968\n",
      "Average loss at step 500 for last 100 steps: 0.458720811307\n",
      "Average loss at step 600 for last 100 steps: 0.458215084076\n",
      "Average loss at step 700 for last 100 steps: 0.459488655329\n",
      "Average loss at step 800 for last 100 steps: 0.459476181567\n",
      "Average loss at step 900 for last 100 steps: 0.457595551908\n"
     ]
    },
    {
     "data": {
      "text/plain": [
       "[<matplotlib.lines.Line2D at 0x7ff00028da58>]"
      ]
     },
     "execution_count": 11,
     "metadata": {},
     "output_type": "execute_result"
    },
    {
     "data": {
      "image/png": "[encoded data removed]",
      "text/plain": [
       "<matplotlib.figure.Figure at 0x7ff0042c76d8>"
      ]
     },
     "metadata": {},
     "output_type": "display_data"
    }
   ],
   "source": [
    "def train_network(num_epochs, num_steps, state_size=4, verbose=True):\n",
    "    with tf.Session() as sess:\n",
    "        sess.run(tf.global_variables_initializer())\n",
    "        training_losses = []\n",
    "        for idx, epoch in enumerate(gen_epochs(num_epochs, num_steps)):\n",
    "            training_loss = 0\n",
    "            training_state = np.zeros((batch_size, state_size))\n",
    "            if verbose:\n",
    "                print(\"\\nEPOCH\", idx)\n",
    "            for step, (X, Y) in enumerate(epoch):\n",
    "                tr_losses, training_loss_, training_state, _= \\\n",
    "                    sess.run([losses, \n",
    "                              total_loss,\n",
    "                              final_state,\n",
    "                              train_step],\n",
    "                            feed_dict={x:X, y:Y, init_state:training_state})\n",
    "                training_loss += training_loss_\n",
    "                if step % 100 == 0 and step > 0:\n",
    "                    if verbose:\n",
    "                        print(\"Average loss at step\", step,\n",
    "                              \"for last 100 steps:\", training_loss/100)\n",
    "                    training_losses.append(training_loss/100)\n",
    "                    training_loss = 0\n",
    "    return training_losses\n",
    "training_losses = train_network(10, num_steps, state_size=state_size)\n",
    "plt.plot(training_losses)\n",
    "            "
   ]
  },
  {
   "cell_type": "code",
   "execution_count": null,
   "metadata": {},
   "outputs": [],
   "source": []
  }
 ],
 "metadata": {
  "kernelspec": {
   "display_name": "Python 3",
   "language": "python",
   "name": "python3"
  },
  "language_info": {
   "codemirror_mode": {
    "name": "ipython",
    "version": 3
   },
   "file_extension": ".py",
   "mimetype": "text/x-python",
   "name": "python",
   "nbconvert_exporter": "python",
   "pygments_lexer": "ipython3",
   "version": "3.5.2"
  },
  "toc": {
   "nav_menu": {},
   "number_sections": true,
   "sideBar": true,
   "skip_h1_title": false,
   "toc_cell": true,
   "toc_position": {},
   "toc_section_display": "block",
   "toc_window_display": true
  },
  "varInspector": {
   "cols": {
    "lenName": 16,
    "lenType": 16,
    "lenVar": 40
   },
   "kernels_config": {
    "python": {
     "delete_cmd_postfix": "",
     "delete_cmd_prefix": "del ",
     "library": "var_list.py",
     "varRefreshCmd": "print(var_dic_list())"
    },
    "r": {
     "delete_cmd_postfix": ") ",
     "delete_cmd_prefix": "rm(",
     "library": "var_list.r",
     "varRefreshCmd": "cat(var_dic_list()) "
    }
   },
   "types_to_exclude": [
    "module",
    "function",
    "builtin_function_or_method",
    "instance",
    "_Feature"
   ],
   "window_display": false
  }
 },
 "nbformat": 4,
 "nbformat_minor": 2
}
